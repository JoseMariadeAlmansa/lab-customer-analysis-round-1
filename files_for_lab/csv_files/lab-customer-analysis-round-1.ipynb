{
 "cells": [
  {
   "cell_type": "code",
   "execution_count": 1,
   "id": "05ed8034",
   "metadata": {},
   "outputs": [
    {
     "data": {
      "text/plain": [
       "(4008, 11)"
      ]
     },
     "metadata": {},
     "output_type": "display_data"
    },
    {
     "data": {
      "text/plain": [
       "(996, 11)"
      ]
     },
     "metadata": {},
     "output_type": "display_data"
    },
    {
     "data": {
      "text/plain": [
       "(7070, 11)"
      ]
     },
     "metadata": {},
     "output_type": "display_data"
    }
   ],
   "source": [
    "import pandas as pd\n",
    "import numpy as np\n",
    "#Read the three files into python as dataframes\n",
    "file1=pd.read_csv('file1.csv')\n",
    "file2=pd.read_csv('file2.csv')\n",
    "file3=pd.read_csv('file3.csv')\n",
    "#Show the DataFrame's shape.\n",
    "display(file1.shape)\n",
    "display(file2.shape)\n",
    "display(file3.shape)\n"
   ]
  },
  {
   "cell_type": "code",
   "execution_count": 2,
   "id": "0704074d",
   "metadata": {},
   "outputs": [
    {
     "data": {
      "text/plain": [
       "['customer',\n",
       " 'state',\n",
       " 'customer lifetime value',\n",
       " 'education',\n",
       " 'gender',\n",
       " 'income',\n",
       " 'monthly premium auto',\n",
       " 'number of open complaints',\n",
       " 'policy type',\n",
       " 'total claim amount',\n",
       " 'vehicle class']"
      ]
     },
     "metadata": {},
     "output_type": "display_data"
    },
    {
     "data": {
      "text/plain": [
       "['customer',\n",
       " 'st',\n",
       " 'gender',\n",
       " 'education',\n",
       " 'customer lifetime value',\n",
       " 'income',\n",
       " 'monthly premium auto',\n",
       " 'number of open complaints',\n",
       " 'total claim amount',\n",
       " 'policy type',\n",
       " 'vehicle class']"
      ]
     },
     "metadata": {},
     "output_type": "display_data"
    },
    {
     "data": {
      "text/plain": [
       "['customer',\n",
       " 'state',\n",
       " 'customer lifetime value',\n",
       " 'education',\n",
       " 'gender',\n",
       " 'income',\n",
       " 'monthly premium auto',\n",
       " 'number of open complaints',\n",
       " 'policy type',\n",
       " 'total claim amount',\n",
       " 'vehicle class']"
      ]
     },
     "metadata": {},
     "output_type": "display_data"
    },
    {
     "data": {
      "text/plain": [
       "Index(['customer', 'state', 'gender', 'education', 'customer lifetime value',\n",
       "       'income', 'monthly premium auto', 'number of open complaints',\n",
       "       'total claim amount', 'policy type', 'vehicle class'],\n",
       "      dtype='object')"
      ]
     },
     "metadata": {},
     "output_type": "display_data"
    }
   ],
   "source": [
    "# Standardize header names.\n",
    "standard_headers_file1= []\n",
    "for column in file3.columns:\n",
    "    standard_headers_file1.append(column.lower())\n",
    "file1.columns = standard_headers_file1\n",
    "display(standard_headers_file1)\n",
    "standard_headers_file2= []\n",
    "for column in file2.columns:\n",
    "    standard_headers_file2.append(column.lower())\n",
    "file2.columns = standard_headers_file2\n",
    "display(standard_headers_file2)\n",
    "standard_headers_file3= []\n",
    "for column in file3.columns:\n",
    "    standard_headers_file3.append(column.lower())\n",
    "file3.columns = standard_headers_file3\n",
    "display(standard_headers_file3)\n",
    "\n",
    "file2=file2.rename(columns={'st':'state'})\n",
    "display(file2.columns)\n"
   ]
  },
  {
   "cell_type": "code",
   "execution_count": 13,
   "id": "e30decee",
   "metadata": {},
   "outputs": [
    {
     "data": {
      "text/html": [
       "<div>\n",
       "<style scoped>\n",
       "    .dataframe tbody tr th:only-of-type {\n",
       "        vertical-align: middle;\n",
       "    }\n",
       "\n",
       "    .dataframe tbody tr th {\n",
       "        vertical-align: top;\n",
       "    }\n",
       "\n",
       "    .dataframe thead th {\n",
       "        text-align: right;\n",
       "    }\n",
       "</style>\n",
       "<table border=\"1\" class=\"dataframe\">\n",
       "  <thead>\n",
       "    <tr style=\"text-align: right;\">\n",
       "      <th></th>\n",
       "      <th>customer</th>\n",
       "      <th>state</th>\n",
       "      <th>gender</th>\n",
       "      <th>education</th>\n",
       "      <th>customer lifetime value</th>\n",
       "      <th>income</th>\n",
       "      <th>monthly premium auto</th>\n",
       "      <th>number of open complaints</th>\n",
       "      <th>policy type</th>\n",
       "      <th>total claim amount</th>\n",
       "      <th>vehicle class</th>\n",
       "    </tr>\n",
       "  </thead>\n",
       "  <tbody>\n",
       "    <tr>\n",
       "      <th>0</th>\n",
       "      <td>GS98873</td>\n",
       "      <td>Arizona</td>\n",
       "      <td>F</td>\n",
       "      <td>Bachelor</td>\n",
       "      <td>323912.47%</td>\n",
       "      <td>16061</td>\n",
       "      <td>88</td>\n",
       "      <td>1/0/00</td>\n",
       "      <td>633.6</td>\n",
       "      <td>Personal Auto</td>\n",
       "      <td>Four-Door Car</td>\n",
       "    </tr>\n",
       "    <tr>\n",
       "      <th>1</th>\n",
       "      <td>CW49887</td>\n",
       "      <td>California</td>\n",
       "      <td>F</td>\n",
       "      <td>Master</td>\n",
       "      <td>462680.11%</td>\n",
       "      <td>79487</td>\n",
       "      <td>114</td>\n",
       "      <td>1/0/00</td>\n",
       "      <td>547.2</td>\n",
       "      <td>Special Auto</td>\n",
       "      <td>SUV</td>\n",
       "    </tr>\n",
       "    <tr>\n",
       "      <th>2</th>\n",
       "      <td>MY31220</td>\n",
       "      <td>California</td>\n",
       "      <td>F</td>\n",
       "      <td>College</td>\n",
       "      <td>899704.02%</td>\n",
       "      <td>54230</td>\n",
       "      <td>112</td>\n",
       "      <td>1/0/00</td>\n",
       "      <td>537.6</td>\n",
       "      <td>Personal Auto</td>\n",
       "      <td>Two-Door Car</td>\n",
       "    </tr>\n",
       "    <tr>\n",
       "      <th>3</th>\n",
       "      <td>UH35128</td>\n",
       "      <td>Oregon</td>\n",
       "      <td>F</td>\n",
       "      <td>College</td>\n",
       "      <td>2580706.30%</td>\n",
       "      <td>71210</td>\n",
       "      <td>214</td>\n",
       "      <td>1/1/00</td>\n",
       "      <td>1027.2</td>\n",
       "      <td>Personal Auto</td>\n",
       "      <td>Luxury Car</td>\n",
       "    </tr>\n",
       "    <tr>\n",
       "      <th>4</th>\n",
       "      <td>WH52799</td>\n",
       "      <td>Arizona</td>\n",
       "      <td>F</td>\n",
       "      <td>College</td>\n",
       "      <td>380812.21%</td>\n",
       "      <td>94903</td>\n",
       "      <td>94</td>\n",
       "      <td>1/0/00</td>\n",
       "      <td>451.2</td>\n",
       "      <td>Corporate Auto</td>\n",
       "      <td>Two-Door Car</td>\n",
       "    </tr>\n",
       "  </tbody>\n",
       "</table>\n",
       "</div>"
      ],
      "text/plain": [
       "  customer       state gender education customer lifetime value  income  \\\n",
       "0  GS98873     Arizona      F  Bachelor              323912.47%   16061   \n",
       "1  CW49887  California      F    Master              462680.11%   79487   \n",
       "2  MY31220  California      F   College              899704.02%   54230   \n",
       "3  UH35128      Oregon      F   College             2580706.30%   71210   \n",
       "4  WH52799     Arizona      F   College              380812.21%   94903   \n",
       "\n",
       "   monthly premium auto number of open complaints  policy type  \\\n",
       "0                    88                    1/0/00        633.6   \n",
       "1                   114                    1/0/00        547.2   \n",
       "2                   112                    1/0/00        537.6   \n",
       "3                   214                    1/1/00       1027.2   \n",
       "4                    94                    1/0/00        451.2   \n",
       "\n",
       "  total claim amount  vehicle class  \n",
       "0      Personal Auto  Four-Door Car  \n",
       "1       Special Auto            SUV  \n",
       "2      Personal Auto   Two-Door Car  \n",
       "3      Personal Auto     Luxury Car  \n",
       "4     Corporate Auto   Two-Door Car  "
      ]
     },
     "execution_count": 13,
     "metadata": {},
     "output_type": "execute_result"
    }
   ],
   "source": [
    "# Rearrange the columns in the dataframe as needed\n",
    "file2.columns=['customer','state','gender','education','customer lifetime value','income','monthly premium auto','number of open complaints','policy type','total claim amount','vehicle class']\n",
    "file2.columns\n",
    "file2.head()"
   ]
  },
  {
   "cell_type": "code",
   "execution_count": null,
   "id": "b0a44619",
   "metadata": {},
   "outputs": [],
   "source": [
    "# Concatenate the three dataframes\n",
    "data=pd.concat([file1,file2,file3], axis=0)\n",
    "display(data.shape)\n",
    "data=data.reset_index(drop=True)"
   ]
  },
  {
   "cell_type": "code",
   "execution_count": null,
   "id": "c252ebea",
   "metadata": {},
   "outputs": [],
   "source": [
    "data"
   ]
  },
  {
   "cell_type": "code",
   "execution_count": null,
   "id": "c906dcfd",
   "metadata": {},
   "outputs": [],
   "source": [
    "# Which columns are numerical?\n",
    "data._get_numeric_data()\n"
   ]
  },
  {
   "cell_type": "code",
   "execution_count": null,
   "id": "74d97975",
   "metadata": {},
   "outputs": [],
   "source": [
    "#Which columns are categorical?\n",
    "data.select_dtypes('object')\n"
   ]
  },
  {
   "cell_type": "code",
   "execution_count": null,
   "id": "df23bf44",
   "metadata": {},
   "outputs": [],
   "source": [
    "\n",
    "#Correct the values in the column customer lifetime value. They are given as a percent, so multiply them by 100 and change dtype to numerical type.\n",
    "data['customer lifetime value'].dtypes\n",
    "data['customer lifetime value']=pd.to_numeric(data['customer lifetime value'], errors='coerce')\n",
    "data.dtypes"
   ]
  },
  {
   "cell_type": "code",
   "execution_count": null,
   "id": "9ea1262e",
   "metadata": {},
   "outputs": [],
   "source": [
    "data['total claim amount'].dtypes\n",
    "data['total claim amount']=pd.to_numeric(data['total claim amount'], errors='coerce')\n",
    "data=data.drop(['ctotal claim amount'], axis=1)\n",
    "data.dtypes"
   ]
  },
  {
   "cell_type": "code",
   "execution_count": null,
   "id": "28f5e483",
   "metadata": {},
   "outputs": [],
   "source": [
    "data.isna().sum()"
   ]
  },
  {
   "cell_type": "code",
   "execution_count": null,
   "id": "eeca7e58",
   "metadata": {},
   "outputs": [],
   "source": [
    "#Understand the meaning of all columns\n",
    "data.dtypes\n",
    "#Perform the data cleaning operations mentioned so far in class\n",
    "data2 = data.copy()\n",
    "#Delete the column education and the number of open complaints from the dataframe.\n",
    "data2=data.drop(['education','number of open complaints'], axis=1)\n",
    "display(data2.columns)\n",
    "#Correct the values in the column customer lifetime value. They are given as a percent, so multiply them by 100 and change dtype to numerical type.\n",
    "data2['customer lifetime value']=data2['customer lifetime value']*100\n",
    "data2['customer lifetime value'].dtypes\n",
    "data2['customer lifetime value']=pd.to_numeric(data2['customer lifetime value'], errors='coerce')\n",
    "display(data2.dtypes)\n",
    "#Check for duplicate rows in the data and remove if any.\n",
    "data2 = data2.drop_duplicates()\n",
    "display(data2.head())\n",
    "display(data2.tail())\n",
    "#Filter out the data for customers who have an income of 0 or less.\n",
    "data[(data['income']<=0)]"
   ]
  },
  {
   "cell_type": "code",
   "execution_count": null,
   "id": "814f0ba8",
   "metadata": {},
   "outputs": [],
   "source": []
  }
 ],
 "metadata": {
  "kernelspec": {
   "display_name": "Python 3 (ipykernel)",
   "language": "python",
   "name": "python3"
  },
  "language_info": {
   "codemirror_mode": {
    "name": "ipython",
    "version": 3
   },
   "file_extension": ".py",
   "mimetype": "text/x-python",
   "name": "python",
   "nbconvert_exporter": "python",
   "pygments_lexer": "ipython3",
   "version": "3.9.12"
  }
 },
 "nbformat": 4,
 "nbformat_minor": 5
}
